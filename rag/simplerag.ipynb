{
 "cells": [
  {
   "cell_type": "code",
   "execution_count": 45,
   "id": "2830d540",
   "metadata": {},
   "outputs": [],
   "source": [
    "## Data Ingestion \n",
    "from langchain_community.document_loaders import TextLoader\n",
    "loader = TextLoader(\"speech.txt\")"
   ]
  },
  {
   "cell_type": "code",
   "execution_count": 46,
   "id": "d4297e67",
   "metadata": {},
   "outputs": [],
   "source": [
    "text_documents = loader.load()"
   ]
  },
  {
   "cell_type": "code",
   "execution_count": 47,
   "id": "5db8a926",
   "metadata": {},
   "outputs": [
    {
     "data": {
      "text/plain": [
       "[Document(metadata={'source': 'speech.txt'}, page_content='\"The future belongs to those who believe in the beauty of their dreams.\" Today, as we gather here, let us remember that each of us holds the power to shape our destiny. Our journey is not always easy, and the path to success is often filled with challenges. But it is in overcoming these obstacles that we discover our true strength and resilience.\\n\\nLet us embrace challenges as opportunities to learn and grow. Let us support one another with kindness, compassion, and understanding, for together we are stronger than we are alone. Each act of encouragement, each moment of collaboration, brings us closer to our shared goals.\\n\\nAs we look to the future, let us strive for excellence in all that we do. Let us be guided by integrity, fueled by curiosity, and inspired by the dreams that unite us. Remember, greatness is not achieved in isolation, but through the collective efforts of a dedicated and passionate community.\\n\\nTogether, we can build a brighter tomorrowâ€”one filled with hope, unity, and endless possibilities. Let us move forward with confidence, knowing that our actions today will shape the world for generations to come. Thank you.')]"
      ]
     },
     "execution_count": 47,
     "metadata": {},
     "output_type": "execute_result"
    }
   ],
   "source": [
    "text_documents"
   ]
  },
  {
   "cell_type": "code",
   "execution_count": 48,
   "id": "1a871f8c",
   "metadata": {},
   "outputs": [],
   "source": [
    "import os\n",
    "from dotenv import load_dotenv\n",
    "load_dotenv()\n",
    "\n",
    "os.environ[\"GOOGLE_API_KEY\"] = os.getenv(\"GOOGLE_API_KEY\")"
   ]
  },
  {
   "cell_type": "code",
   "execution_count": 49,
   "id": "c034450d",
   "metadata": {},
   "outputs": [],
   "source": [
    "# # web based loader\n",
    "# from langchain_community.document_loaders import WebBaseLoader\n",
    "# import bs4\n",
    "\n",
    "# loader = WebBaseLoader(web_paths=\"https://lilianweng.github.io/posts/2023-06-23-agent/\",\n",
    "#                        bs_kwargs=dict(parse_only=bs4.SoupStrainer(\n",
    "#                            class_=(\"post-title\",\"post-content\",\"post-header\")\n",
    "#                        )))\n"
   ]
  },
  {
   "cell_type": "markdown",
   "id": "b6bf24f7",
   "metadata": {},
   "source": [
    "# Load"
   ]
  },
  {
   "cell_type": "markdown",
   "id": "4bf675b0",
   "metadata": {},
   "source": [
    "### Document Loading"
   ]
  },
  {
   "cell_type": "code",
   "execution_count": 50,
   "id": "2126309e",
   "metadata": {},
   "outputs": [],
   "source": [
    "from langchain_community.document_loaders import PyPDFLoader\n",
    "pdf_loader = PyPDFLoader(\"Ultrasound.pdf\")"
   ]
  },
  {
   "cell_type": "code",
   "execution_count": 51,
   "id": "4833361d",
   "metadata": {},
   "outputs": [],
   "source": [
    "doc = pdf_loader.load()"
   ]
  },
  {
   "cell_type": "code",
   "execution_count": 11,
   "id": "9a63fcb8",
   "metadata": {},
   "outputs": [
    {
     "data": {
      "text/plain": [
       "[Document(metadata={'producer': 'ST4 PDF Engine (Build 13.0.1.0)', 'creator': 'SCHEMA ST4', 'creationdate': '2025-08-04T17:42:33+02:00', 'title': 'RevB_TechnicalSpecification_UWS_7.0_ENG', 'moddate': '2025-08-04T17:42:33+02:00', 'source': 'Ultrasound.pdf', 'total_pages': 24, 'page': 0, 'page_label': '1'}, page_content='Technical\\nSpecification\\nEnglish\\nUltrasound Workspace\\n7.0'),\n",
       " Document(metadata={'producer': 'ST4 PDF Engine (Build 13.0.1.0)', 'creator': 'SCHEMA ST4', 'creationdate': '2025-08-04T17:42:33+02:00', 'title': 'RevB_TechnicalSpecification_UWS_7.0_ENG', 'moddate': '2025-08-04T17:42:33+02:00', 'source': 'Ultrasound.pdf', 'total_pages': 24, 'page': 1, 'page_label': '2'}, page_content=''),\n",
       " Document(metadata={'producer': 'ST4 PDF Engine (Build 13.0.1.0)', 'creator': 'SCHEMA ST4', 'creationdate': '2025-08-04T17:42:33+02:00', 'title': 'RevB_TechnicalSpecification_UWS_7.0_ENG', 'moddate': '2025-08-04T17:42:33+02:00', 'source': 'Ultrasound.pdf', 'total_pages': 24, 'page': 2, 'page_label': '3'}, page_content='Contents\\nUltrasound Workspace 7.0 3\\nPhilips 300015491391_B/ * AUG 2025\\nContents\\n1 Introduction ............................................................................................................................................ \\xa0 5\\n2 Data Compatibility ................................................................................................................................... \\xa0 5\\nCardiac Imaging ................................................................................................................................................  5\\nRadiology Imaging ............................................................................................................................................  9\\nImage Visualization ........................................................................................................................................  10\\n3 Single Seat Installation ........................................................................................................................... \\xa0 10\\nSingle Seat Workstation Requirements .........................................................................................................  10\\nOperating System ...........................................................................................................................................  10\\nHardware .......................................................................................................................................................  10\\nDisk Space ......................................................................................................................................................  11\\nMSSQL Database ............................................................................................................................................  11\\nConfiguration .................................................................................................................................................  12\\nBackup Strategy .............................................................................................................................................  14\\n4 Server Client Installation ......................................................................................................................... \\xa0 14\\nClient Workstation Requirements ..................................................................................................................  14\\nOperating System ............................................................................................................................. \\xa0 14\\nHardware .......................................................................................................................................... \\xa0 15\\nDisk Space ......................................................................................................................................... \\xa0 15\\nConfiguration .................................................................................................................................... \\xa0 15\\nWeb Client Requirements ..............................................................................................................................  16\\nOfficially Supported Browser ............................................................................................................ \\xa0 16\\nServer Requirements .....................................................................................................................................  16\\nOperating System ............................................................................................................................. \\xa0 16\\nMSSQL Database ............................................................................................................................... \\xa0 17\\nHardware (physical or virtual) .......................................................................................................... \\xa0 18\\nDisk Space ......................................................................................................................................... \\xa0 18\\nConfiguration .................................................................................................................................... \\xa0 19\\nBackup Strategy ................................................................................................................................ \\xa0 21\\nZero Footprint Agent Requirements ..............................................................................................................  21\\nOperating System ............................................................................................................................. \\xa0 21\\nHardware (physical or virtual) .......................................................................................................... \\xa0 21\\nConfiguration .................................................................................................................................... \\xa0 22\\n5 License Server ......................................................................................................................................... \\xa0 22\\nOperating System ...........................................................................................................................................  22\\nConfiguration .................................................................................................................................................  22\\n6 System Scaling ........................................................................................................................................ \\xa0 23'),\n",
       " Document(metadata={'producer': 'ST4 PDF Engine (Build 13.0.1.0)', 'creator': 'SCHEMA ST4', 'creationdate': '2025-08-04T17:42:33+02:00', 'title': 'RevB_TechnicalSpecification_UWS_7.0_ENG', 'moddate': '2025-08-04T17:42:33+02:00', 'source': 'Ultrasound.pdf', 'total_pages': 24, 'page': 3, 'page_label': '4'}, page_content='Contents\\n4 Ultrasound Workspace 7.0\\nPhilips 300015491391_B/ * AUG 2025\\n7 System Virtualization .............................................................................................................................. \\xa0 23\\n8 File Access and Virus Scanner ................................................................................................................. \\xa0 23'),\n",
       " Document(metadata={'producer': 'ST4 PDF Engine (Build 13.0.1.0)', 'creator': 'SCHEMA ST4', 'creationdate': '2025-08-04T17:42:33+02:00', 'title': 'RevB_TechnicalSpecification_UWS_7.0_ENG', 'moddate': '2025-08-04T17:42:33+02:00', 'source': 'Ultrasound.pdf', 'total_pages': 24, 'page': 4, 'page_label': '5'}, page_content='Introduction\\nUltrasound Workspace 7.0 5\\nPhilips 300015491391_B/ * AUG 2025\\n1 Introduction\\nThis document describes the supported data formats and the standard hardware and software\\nrequirements for Ultrasound Workspace.\\n2 Data Compatibility\\nThe following symbols are used in the tables to indicate support or compatibility.\\nSymbol Meaning\\nSupported or compatible\\n– Not supported or compatible\\n* No restriction\\nCardiac Imaging\\nThe following table lists the data format restrictions for the cardiology product modules.\\n4D LV–ANALYSIS\\n3D Auto RV\\n3D Auto CFQ\\n3D Auto TV\\n3D Auto MV 4D CARDIO–\\nVIEW\\nAutoStrain LV/\\nSAX/RV/LA  \\n2D Auto LV\\nIMAGE–COM\\nMinimal frame\\nrate (fps)\\n10 * * * *\\nMinimal number\\nof frames per\\ncardiac cycle\\n(frames/cycle)\\n10 * * * *\\nMinimal number\\nof frames per clip\\n(frames/clip)\\n* 3 * 2 *\\nMinimal number\\nof Stages for\\nstress studies\\n(different values\\nin StageNumber\\ntag)\\n* * * * 2\\nModality for\\ndetection of\\nstress echo\\nstudies\\n* * * * US'),\n",
       " Document(metadata={'producer': 'ST4 PDF Engine (Build 13.0.1.0)', 'creator': 'SCHEMA ST4', 'creationdate': '2025-08-04T17:42:33+02:00', 'title': 'RevB_TechnicalSpecification_UWS_7.0_ENG', 'moddate': '2025-08-04T17:42:33+02:00', 'source': 'Ultrasound.pdf', 'total_pages': 24, 'page': 5, 'page_label': '6'}, page_content='Data Compatibility\\n6 Ultrasound Workspace 7.0\\nPhilips 300015491391_B/ * AUG 2025\\n2D Data Compatibility\\nThe following table lists the compatibility of cardiology product modules with 2D data formats\\nand associated acquisition protocols.\\nAutoStrain LV/\\nSAX/RV/LA\\n2D Auto LV IMAGE–COM\\nModality \\n(2)\\nAcquisition Protocol\\nDICOM 2D US B–Mode\\n(6)\\n (6, 7)\\nDICOM 2D US M–Mode, Doppler – –\\nDICOM 2D US Stress Echo\\n(6)\\n (6, 7)\\nDICOM 2D XA,\\nNM\\n– –'),\n",
       " Document(metadata={'producer': 'ST4 PDF Engine (Build 13.0.1.0)', 'creator': 'SCHEMA ST4', 'creationdate': '2025-08-04T17:42:33+02:00', 'title': 'RevB_TechnicalSpecification_UWS_7.0_ENG', 'moddate': '2025-08-04T17:42:33+02:00', 'source': 'Ultrasound.pdf', 'total_pages': 24, 'page': 6, 'page_label': '7'}, page_content='Data Compatibility\\nUltrasound Workspace 7.0 7\\nPhilips 300015491391_B/ * AUG 2025\\n3D Data Compatibility\\nThe following tables list the compatibility of cardiology product modules with vendor-specific\\n3D data formats and associated transducers.\\n4D LV–\\nANALYSIS\\n3D Auto\\nRV\\n3D Auto\\nMV\\n4D\\nCARDIO–\\nVIEW\\n3D Auto\\nCFQ\\n3D Auto\\nTV\\nIMAGE–\\nCOM\\nModality  \\n(2)\\nFormat and\\nTransducers\\nGE Vivid 7\\n(9)\\nGE E9 \\n(9)\\nGE E95 \\n(9)\\n3V-D\\n4V-D\\n4Vc-D\\n6VT-D\\n6Vc-D\\nSW Version\\n(v110-v113) \\n(v201-v204)\\n(v206)\\n–\\n(10)\\n (1)\\nPhilips X3-1\\n(3)\\n (4)\\n (4)\\n–\\n(10)\\n (1, 4)\\nX5-1\\n(3)\\n (4)\\n (4)\\n–\\n(3)\\n (1, 4)\\nX5-1c\\n(3)\\n (4)\\n (4)\\n–\\n(3)\\n (1, 4)\\nX7-2\\n(3)\\n (4)\\n (4)\\n–\\n(10)\\n (1, 4)\\nX7-2t\\n(3)\\n (4)\\n (4)\\n–\\n(3)\\n (1, 4)\\nX8-2t\\n(3)\\n (4)\\n (4)\\n (8)\\n (3)\\n (1, 4)\\nX11-4t\\n(3)\\n (4)\\n (4)\\n–\\n(3)\\n (1, 4)\\nVeriSight Pro ICE – –\\n(4)\\n– –\\n(1, 4)\\nSiemens\\nAcuson\\nSequoia 3D\\n(9)\\n5Z1 (TTE) – –\\n – –\\n(1)\\nZ6T (TEE) – –\\n – –\\n(1)'),\n",
       " Document(metadata={'producer': 'ST4 PDF Engine (Build 13.0.1.0)', 'creator': 'SCHEMA ST4', 'creationdate': '2025-08-04T17:42:33+02:00', 'title': 'RevB_TechnicalSpecification_UWS_7.0_ENG', 'moddate': '2025-08-04T17:42:33+02:00', 'source': 'Ultrasound.pdf', 'total_pages': 24, 'page': 7, 'page_label': '8'}, page_content='Data Compatibility\\n8 Ultrasound Workspace 7.0\\nPhilips 300015491391_B/ * AUG 2025\\n3D Data Compatibility\\n4D LV–\\nANALYSIS\\n3D Auto RV\\n3D Auto MV\\n4D CARDIO-\\nVIEW\\n3D Auto TV IMAGE–COM\\nModality  \\n(2)\\nAcquisition\\nProtocol\\nFormat\\nToshiba\\nARTIDA 3D\\nFull Volume Rev 2 and 3\\n(3, 5)\\n (3, 5)\\n (10)\\n (1)\\nToshiba\\nARTIDA 3D\\nSingle Volume Rev 2 and 3 – – – –\\nCANON 3D Single Beat\\nand Triggered\\nVolume\\nTissue only (no\\ncolor Doppler)\\n(10)\\n (1)\\nHAM Cardiac \\nF75 3D\\nNormal and\\nCycle Scan\\nTissue only (no\\ncolor Doppler)\\n(10)\\n (1)\\nSiemens\\nSC2000 TTE /\\nTEE 3D\\n4D real time Tissue only (no\\ncolor Doppler)\\n(10)\\n (1)\\nFootnotes for Cardiac Imaging:\\n1. Requires a separate 3D license.\\n2. Contact your modality provider regarding special configurations of your ultrasound\\nmachine.\\n3. Supports tissue data only.\\n4. Supports tissue and color (Doppler) data.\\n5. Datasets containing multiple cardiac cycle data are automatically cropped to one cardiac\\ncycle. For the analysis of Toshiba ARTIDA 3D datasets, only the last cardiac cycle of a\\nmultiple cardiac cycle dataset is used. For all other datasets, the first cardiac cycle is used.\\n6. Support for Philips native single plane 2D data.\\n7. Segmental Wall Motion requires that the images were taken with supported transducers\\n(X5-1, X5-1c, S5-1), have standard orientations, are not pediatric, and that all three apical\\nviews are available. If any of these conditions are not met for images, the corresponding\\nworkflow step is grayed out.\\n8. Requires color (Doppler) data.\\n9. Use of raw, uncompressed tissue, no color (Doppler) data.\\n10. Requires a separate multi-vendor license. Not available for the USA and Taiwan.'),\n",
       " Document(metadata={'producer': 'ST4 PDF Engine (Build 13.0.1.0)', 'creator': 'SCHEMA ST4', 'creationdate': '2025-08-04T17:42:33+02:00', 'title': 'RevB_TechnicalSpecification_UWS_7.0_ENG', 'moddate': '2025-08-04T17:42:33+02:00', 'source': 'Ultrasound.pdf', 'total_pages': 24, 'page': 8, 'page_label': '9'}, page_content=\"Data Compatibility\\nUltrasound Workspace 7.0 9\\nPhilips 300015491391_B/ * AUG 2025\\nRadiology Imaging\\nThe following table lists product module compatibility with 2D and 3D radiology data formats\\nand associated acquisition protocols.\\nModality Acquisition Protocol Format 4D SONO-SCAN IMAGE-COM\\nDICOM multi-frame\\n(handheld)\\nManually acquired\\n2D multi-frame clips\\n2D multi-frame DICOM (*.dcm or\\nwithout extension).\\nSpecific Format\\n(2)\\n: DicomUS\\n(3)\\n (1)\\nZonare (Z.ONE) Wobbler probe\\nacquisition\\nAcquisition modes:\\n3D/4D static & real-\\ntime\\nZonare's DICOM encapsulated\\nproprietary 3D/4D volume data.\\nSpecific Format\\n(2)\\n: ZONARE_DATA\\n(3)\\n (1)\\nGeneral Electric\\n(Voluson, Logiq)\\nWobbler or Matrix\\nprobe acquisition\\nAcquisition modes:\\n4D, Tru3D, Advanced\\n3D and Easy 3D mode\\nGE’s DICOM encapsulated\\nproprietary (.V00 or .vol) 3D/4D\\nvolume data\\nSpecific Format\\n(2)\\n:\\nGE_Kretzfile_Wobbler\\n(4)\\n (1)\\nPhilips Matrix probe\\nacquisition\\nAcquisition modes:\\n3D, 4D\\nPhilips 3D\\n(3)\\n (1)\\nAlpinion (E-Cube) Acquisition mode: 4D Alpinion's DICOM encapsulated\\nproprietary 3D/4D volume data.\\nSpecific Format\\n(2)\\n:\\nALPINION_VOLUME\\n(3)\\n (1)\\nSiemens ABVS Mechanically\\nacquired 3D data (it is\\nactually spatially\\ncalibrated 2D multi-\\nframe data) with a\\nSiemens ABVS device.\\n2D multi-frame DICOM data\\n(*.dcm or without extension)\\nthat includes the frame distance.\\nSpecific Format\\n(2)\\n: DicomUS\\n(3)\\n (1)\\nFootnotes for Ultrasound in Radiology:\\n1. Requires a separate 3D license.\\n2. As displayed in the DICOM properties dialog of IMAGE-COM.\\n3. Supports tissue data only.\\n4. Supports tissue and color (Doppler, power etc.) data.\"),\n",
       " Document(metadata={'producer': 'ST4 PDF Engine (Build 13.0.1.0)', 'creator': 'SCHEMA ST4', 'creationdate': '2025-08-04T17:42:33+02:00', 'title': 'RevB_TechnicalSpecification_UWS_7.0_ENG', 'moddate': '2025-08-04T17:42:33+02:00', 'source': 'Ultrasound.pdf', 'total_pages': 24, 'page': 9, 'page_label': '10'}, page_content='Single Seat Installation\\n10 Ultrasound Workspace 7.0\\nPhilips 300015491391_B/ * AUG 2025\\nImage Visualization\\nImage Visualization on Client Workstations and Standalone Workstations\\n• No image compression algorithms are used for image visualization.\\n3 Single Seat Installation\\nSingle Seat Workstation Requirements\\nThis specification is intended to describe the standard hardware and software requirements for\\napplication installed and used on a singular workstation.\\nOperating System\\nMicrosoft Windows operating systems with desktop experience in 64-bit variants which are\\nsupported by Microsoft, starting with Windows 10 version 1809 and higher.\\n(1)\\n Microsoft\\noperating systems built on the Windows OneCore kernel support the x64 variant.\\n1. For more information, see: https://support.microsoft.com/en-us/lifecycle/search\\nHardware\\nHardware Minimum Recommended\\nCPU Intel Core i-Series 6th generation or higher Intel Core i-Series 10th generation or higher\\nMemory 16 GB or higher 16 GB or higher\\nGraphics Card\\n(1)\\nDirectX 9.0c compatible\\n( TrueVue  users are advised to fulfill the\\nrecommended requirements for the graphics\\ncard.)\\nNVIDIA GPU (Kepler or higher)\\nScreen Resolution 1280x1024 or higher 1920x1080\\nPointing Device Mouse with wheel or equivalent input device\\nNetwork 100 Mbit/s or higher 1 Gbit/s or higher\\n1. DirectX 9.0c feature set is included in higher versions, like DirectX 10, 11, and 12. Intel i-\\nSeries CPUs with integrated GPUs are compatible.'),\n",
       " Document(metadata={'producer': 'ST4 PDF Engine (Build 13.0.1.0)', 'creator': 'SCHEMA ST4', 'creationdate': '2025-08-04T17:42:33+02:00', 'title': 'RevB_TechnicalSpecification_UWS_7.0_ENG', 'moddate': '2025-08-04T17:42:33+02:00', 'source': 'Ultrasound.pdf', 'total_pages': 24, 'page': 10, 'page_label': '11'}, page_content='Single Seat Installation\\nUltrasound Workspace 7.0 11\\nPhilips 300015491391_B/ * AUG 2025\\nDisk Space\\nThe following table is an example of disk space partitioning based on standard values and use\\ncases. This recommendation may vary depending on the infrastructure used and the setup\\nscenario.\\nPartition Size\\n1 Operating System 100 GB (SSD recommended)\\n2 Application 100 GB (SSD recommended)\\n3 Database + Archive minimum 500 GB\\n(1)\\n (SSD recommended)\\n1. Depending on study throughput\\nNOTE\\nIn case of PACS Archiving, the size of the file archive should be configured depending on the\\nrequired time spread, where the data shall be accessible from the Online Cache. Older data\\nwill be retrieved from the PACS.\\nIn case of Mass Storage Archiving, the size of the archive depends on the required online\\navailability of the data.\\nA rough guideline for the size of the Archive can be estimated in both cases by the following\\nformula:\\nMinimum size of Archive [GB] (assumed 25 days of acquiring data/month) = A * T * 25\\nA = Average Amount of data per day [GB], Input\\nT = Time spread of availability in Online Cache/Mass Storage Archive [Month]\\nNOTE\\nUltrasound Workspace does not support archive locations on DFS file systems.\\nMSSQL Database\\nUltrasound Workspace (6.0 or higher) is delivered with the PostgreSQL database. Existing\\ninstallations can continue to use MSSQL as a database. The following SQL Server versions are\\ncompatible with Ultrasound Workspace and can be used as an alternative to the delivered\\nPostgreSQL database.\\nName Release End of Support Mainstream \\n(1)\\nEnd of Support Extended \\n(1)\\nSQL Server 2019 2019-11 2025-01 2030-01\\nSQL Server 2022 2022-11 2028-01 2033-01\\n1. For more information, see: https://support.microsoft.com/en-us/lifecycle/search'),\n",
       " Document(metadata={'producer': 'ST4 PDF Engine (Build 13.0.1.0)', 'creator': 'SCHEMA ST4', 'creationdate': '2025-08-04T17:42:33+02:00', 'title': 'RevB_TechnicalSpecification_UWS_7.0_ENG', 'moddate': '2025-08-04T17:42:33+02:00', 'source': 'Ultrasound.pdf', 'total_pages': 24, 'page': 11, 'page_label': '12'}, page_content='Single Seat Installation\\n12 Ultrasound Workspace 7.0\\nPhilips 300015491391_B/ * AUG 2025\\nNOTE\\n• The MSSQL database is not part of the product and must be provided and maintained by\\nthe customer.\\n• Only case insensitive collations are allowed (preferably Latin1_General_CI_AS).\\n• Ultrasound Workspace uses the TCP/IP protocol to connect to the SQL Server on the\\ndefault port 1433.\\nMore information can be found in the official documentation:\\nhttps://docs.microsoft.com/en-us/sql/sql-server/install/hardware-and-software-requirements-\\nfor-installing-sql-server-ver15?view=sql-server-ver15\\nCAUTION\\nWe recommend configuring TLS encryption for your SQL server and adjusting the JDBC URL in\\ntomtec.properties accordingly to secure the communication with the database and to prevent\\nthe disclosure of private data. For examples and more information on how to setup TLS\\nencryption, see:\\n• https://docs.microsoft.com/en-us/sql/database-engine/configure-windows/enable-\\nencrypted-connections-to-the-database-engine?view=sql-server-ver15 for configuring\\nyour SQL server, and\\n• https://docs.microsoft.com/en-us/sql/connect/jdbc/connecting-with-ssl-encryption?\\nview=sql-server-ver15 for configuring the JDBC URL\\nTLS versions 1.0 and 1.1 are outdated and do not comply with current cybersecurity standards.\\nTherefore, TLS versions 1.0 and 1.1 must not be used for Ultrasound Workspace.\\nConfiguration\\nServer\\nVirus Scanner The virus scanner has to be disabled for all directories used by Ultrasound Workspace server\\nfor the exchange of DICOM data files (e.g. temporary folder of DICOM service and folder of\\nworking archive, etc.).\\nFor more information, see chapter “File Access and Virus Scanner”  on page\\xa0 23 .'),\n",
       " Document(metadata={'producer': 'ST4 PDF Engine (Build 13.0.1.0)', 'creator': 'SCHEMA ST4', 'creationdate': '2025-08-04T17:42:33+02:00', 'title': 'RevB_TechnicalSpecification_UWS_7.0_ENG', 'moddate': '2025-08-04T17:42:33+02:00', 'source': 'Ultrasound.pdf', 'total_pages': 24, 'page': 12, 'page_label': '13'}, page_content='Single Seat Installation\\nUltrasound Workspace 7.0 13\\nPhilips 300015491391_B/ * AUG 2025\\nServer\\nUltrasound\\nWorkspace service\\nUltrasound Workspace must have sufficient NTFS permissions for the folder that will\\ncontain the Archives:\\n• List folder / read data\\n• Read attributes\\n• Read extended attributes\\n• Create files / write data\\n• Create folders / append data\\n• Write attributes\\n• Write extended attributes\\n• Delete subfolders and files\\n• Delete\\nFor a local based file archive the easiest way to grant these permissions is to set the user\\nwhich is used to run the Ultrasound Workspace … service to have \"Full access\" to the\\narchives folder. This can be done via the \"Security\" tab of the folder properties. For remote\\ndrives, contact the administrator of the remote server to configure the required\\npermissions.\\n_JAVA_OPTIONS The environment variable _JAVA_OPTIONS shall not be set as it will influence the JVM used\\nby Ultrasound Workspace.\\nEspecially setting maximum heap size below –Xmx4g will lead to startup failure of the\\nUltrasound Workspace.\\nPostgreSQL Database For cyber security reasons, we strongly advise against letting the PostgreSQL database listen\\non an adapter other than the loopback.\\nMinimum Security\\nRequirements\\nFor minimum security requirements you must use a firewall appliance to limit, control or\\neliminate unwanted access to your local network.\\nFurthermore, security safeguards to protect the system against the intrusion of malware\\n(viruses, Trojans, worms) must be in place and must be updated on a regular level.\\nIn general, access to the software client(s) must be restricted to authorized users only.\\nFor further security recommendations and more details refer to the Instructions for Use ,\\nchapter Security Considerations .\\nClient\\nPage File The page file of the operating system must remain enabled.\\nIt is recommended to keep the default settings in the system properties.\\n/ Performance options / Virtual memory / : \"Automatically manage paging file size for all\\ndrives\"'),\n",
       " Document(metadata={'producer': 'ST4 PDF Engine (Build 13.0.1.0)', 'creator': 'SCHEMA ST4', 'creationdate': '2025-08-04T17:42:33+02:00', 'title': 'RevB_TechnicalSpecification_UWS_7.0_ENG', 'moddate': '2025-08-04T17:42:33+02:00', 'source': 'Ultrasound.pdf', 'total_pages': 24, 'page': 13, 'page_label': '14'}, page_content='Server Client Installation\\n14 Ultrasound Workspace 7.0\\nPhilips 300015491391_B/ * AUG 2025\\nClient\\nComputer Name The name of the computer shall not exceed 15 characters.\\nFor more information, see: https://technet.microsoft.com/en-us/library/cc731383.aspx\\nhttps://technet.microsoft.com/en-us/library/cc726016(v=ws.10).aspx\\nPDF Viewer Adobe Acrobat Reader compatible with the installed operating system must be used.\\nMedia Feature Pack For Windows 10 N versions a separate installation of the Media Feature Pack is required.\\nWebView2 Microsoft Edge WebView2 Runtime version 119 or higher is required.\\nScreen Scaling Recommended system scaling factor should be configured.\\nMonitor We strongly recommend an aspect ratio of 4:3 or 16:9. The application runs in full screen\\nmode. It is not possible to change the size of the window. Therefore, two monitors are\\nrequired to display the image review and reporting side by side. Tools that allow the virtual\\ndesktop to be split are not supported.\\nEnergy Settings The energy saving mode must be set to \"Balanced\". The device must always be connected\\nto a power source and have the highest power settings.\\nBackup Strategy\\nA backup strategy needs to be set up for every installation individually. To restore the system\\ncompletely it is recommended to back up the database, the complete file archive and all\\nconfiguration files.\\n4 Server Client Installation\\nServer client installations are for multi-seat configurations which supports multiple clients at\\nthe same time.\\nClient Workstation Requirements\\nThis chapter describes the standard hardware and software requirements for all scenarios\\nwhere the client application is installed on a workstation system with an external database such\\nas an Ultrasound Workspace server or third-party integrations.\\nOperating System\\nMicrosoft Windows operating systems with desktop experience in 64-bit variants which are\\nsupported by Microsoft, starting with Windows 10 version 1809 and higher.\\n(1)\\n Microsoft\\noperating systems built on the Windows OneCore kernel support the x64 variant.\\n1. For more information, see: https://support.microsoft.com/en-us/lifecycle/search'),\n",
       " Document(metadata={'producer': 'ST4 PDF Engine (Build 13.0.1.0)', 'creator': 'SCHEMA ST4', 'creationdate': '2025-08-04T17:42:33+02:00', 'title': 'RevB_TechnicalSpecification_UWS_7.0_ENG', 'moddate': '2025-08-04T17:42:33+02:00', 'source': 'Ultrasound.pdf', 'total_pages': 24, 'page': 14, 'page_label': '15'}, page_content='Server Client Installation\\nUltrasound Workspace 7.0 15\\nPhilips 300015491391_B/ * AUG 2025\\nHardware\\nHardware Minimum Recommended\\nCPU Intel Core i-Series 6th generation or higher Intel Core i-Series 10th generation or higher\\nMemory 8 GB or higher\\n(2)\\n16 GB or higher\\nGraphics Card\\n(1)\\nDirectX 9.0c compatible\\n( TrueVue  users are advised to fulfill the\\nrecommended requirements for the graphics\\ncard.)\\nNVIDIA GPU (Kepler or higher)\\nScreen Resolution 1280x1024 or higher 1920x1080\\nPointing Device Mouse with wheel or equivalent input device\\nNetwork 100 Mbit/s or higher\\n(2)\\n1 Gbit/s or higher\\n1. DirectX 9.0c feature set is included in higher versions, like DirectX 10, 11, and 12. Intel i-\\nSeries CPUs with integrated GPUs are compatible.\\n2. For large image volumes, high frame rate studies, or uncompressed data, we recommend\\nusing the recommended setting for optimal system performance.\\nDisk Space\\nSoftware Size\\nClient Software 4 GB (SSD recommended)\\nConfiguration\\nClient\\nPage File The page file of the operating system must remain enabled.\\nIt is recommended to keep the default settings in the system properties.\\n/ Performance options / Virtual memory / : \"Automatically manage paging file size for all\\ndrives\"\\nComputer Name The name of the computer shall not exceed 15 characters.\\nFor more information, see: https://technet.microsoft.com/en-us/library/cc731383.aspx\\nhttps://technet.microsoft.com/en-us/library/cc726016(v=ws.10).aspx\\nPDF Viewer Adobe Acrobat Reader compatible with the installed operating system must be used.\\nMedia Feature Pack For Windows 10 N versions a separate installation of the Media Feature Pack is required.\\nWebView2 Microsoft Edge WebView2 Runtime version 119 or higher is required.\\nScreen Scaling Recommended system scaling factor should be configured.'),\n",
       " Document(metadata={'producer': 'ST4 PDF Engine (Build 13.0.1.0)', 'creator': 'SCHEMA ST4', 'creationdate': '2025-08-04T17:42:33+02:00', 'title': 'RevB_TechnicalSpecification_UWS_7.0_ENG', 'moddate': '2025-08-04T17:42:33+02:00', 'source': 'Ultrasound.pdf', 'total_pages': 24, 'page': 15, 'page_label': '16'}, page_content='Server Client Installation\\n16 Ultrasound Workspace 7.0\\nPhilips 300015491391_B/ * AUG 2025\\nClient\\n_JAVA_OPTIONS The environment variable _JAVA_OPTIONS shall not be set as it will influence the JVM used\\nby Ultrasound Workspace.\\nEspecially setting maximum heap size below –Xmx4g will lead to startup failure of the\\nUltrasound Workspace.\\nMinimum Security\\nRequirements\\nFor minimum security requirements you must use a firewall appliance to limit, control or\\neliminate unwanted access to your local network.\\nFurthermore, security safeguards to protect the system against the intrusion of malware\\n(viruses, Trojans, worms) must be in place and must be updated on a regular level.\\nIn general, access to the software client(s) must be restricted to authorized users only.\\nFor further security recommendations and more details refer to the Instructions for Use ,\\nchapter Security Considerations .\\nNOTE\\nThe user manuals are provided as PDF files. If you do not have a PDF reader application\\ninstalled, you can download Adobe Reader from the following website: www.adobe.com\\nWeb Client Requirements\\nOfficially Supported Browser\\nWindows Based Browser Architecture Supported Build\\nGoogle Chrome / Edge Chromium x86, x64 >=124\\nNOTE\\nFor security reasons we recommend that you always use the latest version of the browser.\\nServer Requirements\\nThis chapter describes the standard physical and virtual hardware and software requirements\\nfor server applications installed in a network server and client infrastructure based on a\\nstandard clinical use case. For further scaling considerations, refer to chapter “System Scaling”\\non page\\xa0 23 .\\nOperating System\\nMicrosoft Windows operating systems with desktop experience in 64-bit variants which are\\nsupported by Microsoft, starting with Windows Server 2019 and higher.\\n(1)\\n Microsoft operating\\nsystems built on the Windows OneCore kernel support the x64 variant.'),\n",
       " Document(metadata={'producer': 'ST4 PDF Engine (Build 13.0.1.0)', 'creator': 'SCHEMA ST4', 'creationdate': '2025-08-04T17:42:33+02:00', 'title': 'RevB_TechnicalSpecification_UWS_7.0_ENG', 'moddate': '2025-08-04T17:42:33+02:00', 'source': 'Ultrasound.pdf', 'total_pages': 24, 'page': 16, 'page_label': '17'}, page_content='Server Client Installation\\nUltrasound Workspace 7.0 17\\nPhilips 300015491391_B/ * AUG 2025\\n1. For more information, see: https://support.microsoft.com/en-us/lifecycle/search\\nNOTE\\nThe language of the operating system installed on the server must be English.\\nMSSQL Database\\nUltrasound Workspace (6.0 or higher) is delivered with the PostgreSQL database. Existing\\ninstallations can continue to use MSSQL as a database. The following SQL Server versions are\\ncompatible with Ultrasound Workspace and can be used as an alternative to the delivered\\nPostgreSQL database.\\nName Release End of Support Mainstream \\n(1)\\nEnd of Support Extended \\n(1)\\nSQL Server 2019 2019-11 2025-01 2030-01\\nSQL Server 2022 2022-11 2028-01 2033-01\\n1. For more information, see: https://support.microsoft.com/en-us/lifecycle/search\\nNOTE\\n• The MSSQL database is not part of the product and must be provided and maintained by\\nthe customer.\\n• Due to limitations the Express Edition of the MS SQL Server cannot be used for Client\\nServer Installations.\\n• Only case insensitive collations are allowed (preferably Latin1_General_CI_AS).\\n• Ultrasound Workspace uses the TCP/IP protocol to connect to the SQL Server on the\\ndefault port 1433.\\nMore information can be found in the official documentation:\\nhttps://docs.microsoft.com/en-us/sql/sql-server/install/hardware-and-software-requirements-\\nfor-installing-sql-server-ver15?view=sql-server-ver15\\nCAUTION\\nWe recommend configuring TLS encryption for your SQL server and adjusting the JDBC URL in\\ntomtec.properties accordingly to secure the communication with the database and to prevent\\nthe disclosure of private data. For examples and more information on how to setup TLS\\nencryption, see:\\n• https://docs.microsoft.com/en-us/sql/database-engine/configure-windows/enable-\\nencrypted-connections-to-the-database-engine?view=sql-server-ver15 for configuring\\nyour SQL server, and\\n• https://docs.microsoft.com/en-us/sql/connect/jdbc/connecting-with-ssl-encryption?\\nview=sql-server-ver15 for configuring the JDBC URL'),\n",
       " Document(metadata={'producer': 'ST4 PDF Engine (Build 13.0.1.0)', 'creator': 'SCHEMA ST4', 'creationdate': '2025-08-04T17:42:33+02:00', 'title': 'RevB_TechnicalSpecification_UWS_7.0_ENG', 'moddate': '2025-08-04T17:42:33+02:00', 'source': 'Ultrasound.pdf', 'total_pages': 24, 'page': 17, 'page_label': '18'}, page_content='Server Client Installation\\n18 Ultrasound Workspace 7.0\\nPhilips 300015491391_B/ * AUG 2025\\nTLS versions 1.0 and 1.1 are outdated and do not comply with current cyber security standards.\\nTherefore, TLS versions 1.0 and 1.1 must not be used for Ultrasound Workspace.\\nHardware (physical or virtual)\\nHardware Minimum Recommended\\nCPU Intel Core i-Series 6th generation or Intel\\nXeon E-series or higher\\nIntel Xeon E-series or higher\\nMemory 16 GB or higher 32 GB or higher\\nGraphics Card\\n(1)\\nDirectX 9.0c compatible\\n( TrueVue  users are advised to fulfill the\\nrecommended requirements for the graphics\\ncard.)\\nNVIDIA GPU (Kepler or higher)\\nNetwork 100 Mbit/s or higher \\n(2)\\n1 Gbit/s or higher\\n1. Only required when client applications are used on the server, otherwise no specific GPU\\nrequired.\\nDirectX 9.0c feature set is included in higher versions, like DirectX 10, 11, and 12. Intel i-\\nSeries CPUs with integrated GPUs are compatible.\\n2. For large image volumes, high frame rate studies, or uncompressed data, we recommend\\nusing the recommended setting for optimal system performance.\\nDisk Space\\nThe following table is an example of disk space partitioning based on a standard departmental\\nuse case where a server is used to store and manage image data. This recommendation may\\nvary depending on the archiving workflow, infrastructure used, and setup scenario such as\\nMeasurement Mapping service or license service only. Contact your representative for a\\nrecommendation tailored to your needs.\\nPartition Size\\n1 Operating System 100 GB (SSD recommended)\\n2 Application 100 GB (SSD recommended)\\n3 Database + Archive minimum 500 GB\\n(1)\\n (SSD recommended)\\n1. Depending on study throughput'),\n",
       " Document(metadata={'producer': 'ST4 PDF Engine (Build 13.0.1.0)', 'creator': 'SCHEMA ST4', 'creationdate': '2025-08-04T17:42:33+02:00', 'title': 'RevB_TechnicalSpecification_UWS_7.0_ENG', 'moddate': '2025-08-04T17:42:33+02:00', 'source': 'Ultrasound.pdf', 'total_pages': 24, 'page': 18, 'page_label': '19'}, page_content=\"Server Client Installation\\nUltrasound Workspace 7.0 19\\nPhilips 300015491391_B/ * AUG 2025\\nNOTE\\nIn case of PACS Archiving, the size of the file archive should be configured depending on the\\nrequired time spread, where the data shall be accessible from the Online Cache. Older data\\nwill be retrieved from the PACS.\\nIn case of Mass Storage Archiving, the size of the archive depends on the required online\\navailability of the data.\\nA rough guideline for the size of the Archive can be estimated in both cases by the following\\nformula:\\nMinimum size of Archive [GB] (assumed 25 days of acquiring data/month) = A * T * 25\\nA = Average Amount of data per day [GB], Input\\nT = Time spread of availability in Online Cache/Mass Storage Archive [Month]\\nNOTE\\nUltrasound Workspace does not support archive locations on DFS file systems.\\nConfiguration\\nServer\\nTCP/IP Ports Port 80, 443, 41443 and 51080 must be accessible from all client workstations. Port 2100\\nmust be accessible for HL7 communication. Ports 2762 and 50145 must be accessible for\\nDICOM communication. Port 1433 is used to connect to the SQL Server. Port 5432 is used to\\nconnect to the PostgreSQL server (localhost only).\\nSecure\\nCommunication\\nThe Ultrasound Workspace server uses TLS encryption for HTTPS connections, with optional\\nsupport for DICOM TLS and HL7 over TLS. The customer must provide the required X509\\ncertificates, which can be configured using PKCS#12 files or the Windows Certificate Store.\\nFor the Zero Footprint Agent, certificate keys must be marked as 'exportable' when using\\nthe Windows Certificate Store.\\nVirus Scanner The virus scanner has to be disabled for all directories used by Ultrasound Workspace server\\nfor the exchange of DICOM data files (e.g. temporary folder of DICOM service and folder of\\nworking archive, etc.).\\nFor more information, see chapter “File Access and Virus Scanner”  on page\\xa0 23 .\"),\n",
       " Document(metadata={'producer': 'ST4 PDF Engine (Build 13.0.1.0)', 'creator': 'SCHEMA ST4', 'creationdate': '2025-08-04T17:42:33+02:00', 'title': 'RevB_TechnicalSpecification_UWS_7.0_ENG', 'moddate': '2025-08-04T17:42:33+02:00', 'source': 'Ultrasound.pdf', 'total_pages': 24, 'page': 19, 'page_label': '20'}, page_content='Server Client Installation\\n20 Ultrasound Workspace 7.0\\nPhilips 300015491391_B/ * AUG 2025\\nServer\\nUltrasound\\nWorkspace Service\\nUltrasound Workspace must have sufficient NTFS permissions for the folder that will\\ncontain the Archives:\\n• List folder / read data\\n• Read attributes\\n• Read extended attributes\\n• Create files / write data\\n• Create folders / append data\\n• Write attributes\\n• Write extended attributes\\n• Delete subfolders and files\\n• Delete\\nFor a local based file archive the easiest way to grant these permissions is to set the user\\nwhich is used to run the Ultrasound Workspace … service to have \"Full access\" to the\\narchives folder. This can be done via the \"Security\" tab of the folder properties. For remote\\ndrives, contact the administrator of the remote server to configure the required\\npermissions.\\n_JAVA_OPTIONS The environment variable _JAVA_OPTIONS shall not be set as it will influence the JVM used\\nby Ultrasound Workspace.\\nEspecially setting maximum heap size below –Xmx4g will lead to startup failure of the\\nUltrasound Workspace.\\nMinimum Security\\nRequirements\\nFor minimum security requirements you must use a firewall appliance to limit, control or\\neliminate unwanted access to your local network.\\nFurthermore, security safeguards to protect the system against the intrusion of malware\\n(viruses, Trojans, worms) must be in place and must be updated on a regular level.\\nIn general, access to the software client(s) must be restricted to authorized users only.\\nFor further security recommendations and more details refer to the Instructions for Use ,\\nchapter Security Considerations .\\nCAUTION\\nThe software requires ports 80, 443, 41443 and 51080 to be accessible from all client\\nworkstations. Port 2100 must be accessible for HL7 communication. Ports 2762 and 50145\\nmust be accessible for DICOM communication. Port 1433 is used to connect to the SQL Server.\\nPort 5432 is used to connect to the PostgreSQL server (localhost only). Otherwise, all idle ports\\nshould be closed by your firewall to limit access to your system.'),\n",
       " Document(metadata={'producer': 'ST4 PDF Engine (Build 13.0.1.0)', 'creator': 'SCHEMA ST4', 'creationdate': '2025-08-04T17:42:33+02:00', 'title': 'RevB_TechnicalSpecification_UWS_7.0_ENG', 'moddate': '2025-08-04T17:42:33+02:00', 'source': 'Ultrasound.pdf', 'total_pages': 24, 'page': 20, 'page_label': '21'}, page_content='Server Client Installation\\nUltrasound Workspace 7.0 21\\nPhilips 300015491391_B/ * AUG 2025\\nBackup Strategy\\nA backup strategy needs to be set up for every installation individually. To restore the system\\ncompletely it is recommended to back up the database, the complete file archive and all\\nconfiguration files.\\nZero Footprint Agent Requirements\\nThis chapter describes the hardware and software requirements for all scenarios where the\\nZERO footprint application is installed and a separate server is used for server-side processing.\\nOperating System\\nMicrosoft Windows operating systems with desktop experience in 64-bit variants which are\\nsupported by Microsoft, starting with Windows Server 2019 or Windows 10 version 1809 and\\nhigher.\\n(1)\\n Microsoft operating systems built on the Windows OneCore kernel support the x64\\nvariant.\\n1. For more information, see: https://support.microsoft.com/en-us/lifecycle/search\\nNOTE\\nThe language of the operating system installed on the server must be English.\\nHardware (physical or virtual)\\nHardware requirements of Zero Footprint Agent are highly dependent on the use case. Below is\\na sample specification of a standard departmental use case. Contact your sales representative\\nfor more information.\\nHardware Minimum Recommended\\nCPU\\n(1)\\nIntel Core i-Series 6th generation or Intel\\nXeon E-series or higher\\nMore cores to serve more simultaneous\\nusers.\\nMemory 16 GB or higher 32 GB or higher\\nGraphics Card\\n(2, 3)\\nDirectX 9.0c compatible In combination with the Intel Core i-Series\\n6th generation a NVIDIA GPU (Kepler or\\nhigher) is recommended.\\nNetwork 1 Gbit/s or higher (multiple, aggregated 1\\nGbit/s ports recommended)\\n10 Gbit/s network\\nStorage 100 GB OS drive (no permanent storage\\nneeded for Agent)\\n100 GB OS drive (no permanent storage\\nneeded for Agent)\\n1. When Agent is hosted on the same server as Ultrasound Workspace, 8 cores are suggested\\nas a minimum.'),\n",
       " Document(metadata={'producer': 'ST4 PDF Engine (Build 13.0.1.0)', 'creator': 'SCHEMA ST4', 'creationdate': '2025-08-04T17:42:33+02:00', 'title': 'RevB_TechnicalSpecification_UWS_7.0_ENG', 'moddate': '2025-08-04T17:42:33+02:00', 'source': 'Ultrasound.pdf', 'total_pages': 24, 'page': 21, 'page_label': '22'}, page_content='License Server\\n22 Ultrasound Workspace 7.0\\nPhilips 300015491391_B/ * AUG 2025\\n2. Presence of a NVIDIA GPU (Kepler or higher) will reduce the system CPU load and memory\\nusage for TrueVue .\\n3. DirectX 9.0c feature set is included in higher versions, like DirectX 10, 11, and 12. Intel i-\\nSeries CPUs with integrated GPUs are compatible.\\nConfiguration\\nServer\\nMinimum Security\\nRequirements\\nFor minimum security requirements you must use a firewall appliance to limit, control or\\neliminate unwanted access to your local network.\\nFurthermore, security safeguards to protect the system against the intrusion of malware\\n(viruses, Trojans, worms) must be in place and must be updated on a regular level.\\nIn general, access to the software client(s) must be restricted to authorized users only.\\nFor further security recommendations and more details refer to the Instructions for Use ,\\nchapter Security Considerations .\\n5 License Server\\nThis chapter describes the standard software requirements for all scenarios in which the license\\nserver is installed as a separate component for third-party integrations.\\nOperating System\\nMicrosoft Windows operating systems with desktop experience in 64-bit variants which are\\nsupported by Microsoft, starting with Windows Server 2019 and higher.\\n(1)\\n Microsoft operating\\nsystems built on the Windows OneCore kernel support the x64 variant.\\n1. For more information, see: https://support.microsoft.com/en-us/lifecycle/search\\nNOTE\\nThe language of the operating system installed on the server must be English.\\nConfiguration\\nCAUTION\\nThe license server requires port 50002 to be accessible from all client workstations.\\nOtherwise, all idle ports should be closed by your firewall to limit access to your system.'),\n",
       " Document(metadata={'producer': 'ST4 PDF Engine (Build 13.0.1.0)', 'creator': 'SCHEMA ST4', 'creationdate': '2025-08-04T17:42:33+02:00', 'title': 'RevB_TechnicalSpecification_UWS_7.0_ENG', 'moddate': '2025-08-04T17:42:33+02:00', 'source': 'Ultrasound.pdf', 'total_pages': 24, 'page': 22, 'page_label': '23'}, page_content='System Scaling\\nUltrasound Workspace 7.0 23\\nPhilips 300015491391_B/ * AUG 2025\\n6 System Scaling\\nThe system is designed to support departmental use cases and a workstation and server client\\nbased scenario. In case you plan to use the system in a multi-department multi-site scenario,\\nadditional system scaling considerations shall be considered which are highly dependent on the\\nuser workflow and use case. Contact your service representative for further information.\\n7 System Virtualization\\nThe product supports server virtualization only. All clinical applications, which display or render\\ndata, must run on physical hardware with a rendering engine. In case image display and\\nrendering will be used for maintenance purposes on virtual servers, a 3D acceleration support\\nand WebGL is required.\\nNOTE\\nVirtualization of clients, e.g. clinical applications, is not supported.\\n8 File Access and Virus Scanner\\nFor performance reasons, the virus scanner shall be deactivated for all directories used by\\nUltrasound Workspace server. On-access scan exclusions shall be configured for the data\\narchive directories used as well as for log file and temp directories that are created after the\\ninstallation of Ultrasound Workspace.\\nInstallations that are integrated into third-party systems use additional configurable directories\\nfor the exchange of DICOM data. For performance reasons, these directories should also be\\nexcluded from the on-access scan of the virus scanner. For information about the on-access\\nscan exclusions, contact your service representative.'),\n",
       " Document(metadata={'producer': 'ST4 PDF Engine (Build 13.0.1.0)', 'creator': 'SCHEMA ST4', 'creationdate': '2025-08-04T17:42:33+02:00', 'title': 'RevB_TechnicalSpecification_UWS_7.0_ENG', 'moddate': '2025-08-04T17:42:33+02:00', 'source': 'Ultrasound.pdf', 'total_pages': 24, 'page': 23, 'page_label': '24'}, page_content='www.philips.com/healthcare\\nPhilips Ultrasound LLC\\n22100 Bothell Everett Hwy\\nBothell, WA 98021-8431\\nUSA\\nREPEC\\nPhilips Medical Systems Nederland B.V.\\nVeenpluis 6\\n5684 PC Best\\nThe Netherlands\\n 2797\\n© 2025 Koninklijke Philips N.V. All rights reserved.\\nReproduction or transmission in whole or in part, in any form or by any means, electronic, mechanical or otherwise, is prohibited without the prior\\nwritten consent of the copyright owner.\\nTrademarks are the property of Koninklijke Philips N.V. or their respective owners.\\n300015491391_B/ * AUG 2025 - en-US')]"
      ]
     },
     "execution_count": 11,
     "metadata": {},
     "output_type": "execute_result"
    }
   ],
   "source": [
    "doc"
   ]
  },
  {
   "cell_type": "markdown",
   "id": "c01e6a5e",
   "metadata": {},
   "source": [
    "# Transform"
   ]
  },
  {
   "cell_type": "code",
   "execution_count": 52,
   "id": "e6686b77",
   "metadata": {},
   "outputs": [],
   "source": [
    "from langchain.text_splitter import RecursiveCharacterTextSplitter\n",
    "text_splitter = RecursiveCharacterTextSplitter(chunk_size=2000, chunk_overlap=100)"
   ]
  },
  {
   "cell_type": "code",
   "execution_count": 53,
   "id": "4de5ee0e",
   "metadata": {},
   "outputs": [],
   "source": [
    "documents = text_splitter.split_documents(doc)"
   ]
  },
  {
   "cell_type": "code",
   "execution_count": 54,
   "id": "92b74207",
   "metadata": {},
   "outputs": [
    {
     "data": {
      "text/plain": [
       "[]"
      ]
     },
     "execution_count": 54,
     "metadata": {},
     "output_type": "execute_result"
    }
   ],
   "source": [
    "documents[45:50]"
   ]
  },
  {
   "cell_type": "markdown",
   "id": "710f6b30",
   "metadata": {},
   "source": [
    "# Embedding"
   ]
  },
  {
   "cell_type": "code",
   "execution_count": 66,
   "id": "2a29e520",
   "metadata": {},
   "outputs": [],
   "source": [
    "# from langchain.embeddings import OpenAIEmbeddings\n",
    "from langchain_google_genai import GoogleGenerativeAIEmbeddings\n",
    "from langchain.vectorstores import Chroma\n",
    "\n",
    "try:\n",
    "    db = Chroma.from_documents(documents, GoogleGenerativeAIEmbeddings(model=\"models/embedding-001\"))\n",
    "except Exception as e:\n",
    "    print(f\"Error creating Chroma vector store: {e}\")\n",
    "    db = None"
   ]
  },
  {
   "cell_type": "code",
   "execution_count": 67,
   "id": "84e296d8",
   "metadata": {},
   "outputs": [
    {
     "data": {
      "text/plain": [
       "<langchain_community.vectorstores.chroma.Chroma at 0x1f4fd51e690>"
      ]
     },
     "execution_count": 67,
     "metadata": {},
     "output_type": "execute_result"
    }
   ],
   "source": [
    "db"
   ]
  },
  {
   "cell_type": "code",
   "execution_count": 68,
   "id": "e5121bb8",
   "metadata": {},
   "outputs": [],
   "source": [
    "query = \"What are the hardware requirements?\"\n",
    "docs = db.similarity_search(query)"
   ]
  },
  {
   "cell_type": "code",
   "execution_count": 69,
   "id": "ff6ddf77",
   "metadata": {},
   "outputs": [
    {
     "data": {
      "text/plain": [
       "[Document(metadata={'title': 'RevB_TechnicalSpecification_UWS_7.0_ENG', 'producer': 'ST4 PDF Engine (Build 13.0.1.0)', 'creationdate': '2025-08-04T17:42:33+02:00', 'creator': 'SCHEMA ST4', 'total_pages': 24, 'source': 'Ultrasound.pdf', 'page': 2, 'page_label': '3', 'moddate': '2025-08-04T17:42:33+02:00'}, page_content='Client Workstation Requirements ..................................................................................................................  14\\nOperating System ............................................................................................................................. \\xa0 14\\nHardware .......................................................................................................................................... \\xa0 15\\nDisk Space ......................................................................................................................................... \\xa0 15\\nConfiguration .................................................................................................................................... \\xa0 15\\nWeb Client Requirements ..............................................................................................................................  16'),\n",
       " Document(metadata={'total_pages': 24, 'creationdate': '2025-08-04T17:42:33+02:00', 'title': 'RevB_TechnicalSpecification_UWS_7.0_ENG', 'moddate': '2025-08-04T17:42:33+02:00', 'page': 2, 'page_label': '3', 'source': 'Ultrasound.pdf', 'creator': 'SCHEMA ST4', 'producer': 'ST4 PDF Engine (Build 13.0.1.0)'}, page_content='Client Workstation Requirements ..................................................................................................................  14\\nOperating System ............................................................................................................................. \\xa0 14\\nHardware .......................................................................................................................................... \\xa0 15\\nDisk Space ......................................................................................................................................... \\xa0 15\\nConfiguration .................................................................................................................................... \\xa0 15\\nWeb Client Requirements ..............................................................................................................................  16'),\n",
       " Document(metadata={'creationdate': '2025-08-04T17:42:33+02:00', 'page_label': '3', 'producer': 'ST4 PDF Engine (Build 13.0.1.0)', 'title': 'RevB_TechnicalSpecification_UWS_7.0_ENG', 'creator': 'SCHEMA ST4', 'total_pages': 24, 'page': 2, 'moddate': '2025-08-04T17:42:33+02:00', 'source': 'Ultrasound.pdf'}, page_content='Web Client Requirements ..............................................................................................................................  16\\nOfficially Supported Browser ............................................................................................................ \\xa0 16\\nServer Requirements .....................................................................................................................................  16\\nOperating System ............................................................................................................................. \\xa0 16\\nMSSQL Database ............................................................................................................................... \\xa0 17\\nHardware (physical or virtual) .......................................................................................................... \\xa0 18'),\n",
       " Document(metadata={'producer': 'ST4 PDF Engine (Build 13.0.1.0)', 'page_label': '3', 'page': 2, 'creationdate': '2025-08-04T17:42:33+02:00', 'total_pages': 24, 'moddate': '2025-08-04T17:42:33+02:00', 'source': 'Ultrasound.pdf', 'title': 'RevB_TechnicalSpecification_UWS_7.0_ENG', 'creator': 'SCHEMA ST4'}, page_content='Web Client Requirements ..............................................................................................................................  16\\nOfficially Supported Browser ............................................................................................................ \\xa0 16\\nServer Requirements .....................................................................................................................................  16\\nOperating System ............................................................................................................................. \\xa0 16\\nMSSQL Database ............................................................................................................................... \\xa0 17\\nHardware (physical or virtual) .......................................................................................................... \\xa0 18')]"
      ]
     },
     "execution_count": 69,
     "metadata": {},
     "output_type": "execute_result"
    }
   ],
   "source": [
    "docs"
   ]
  },
  {
   "cell_type": "code",
   "execution_count": 73,
   "id": "8c5ad425",
   "metadata": {},
   "outputs": [],
   "source": [
    "from langchain_google_genai import ChatGoogleGenerativeAI\n",
    "from langchain_core.prompts import ChatPromptTemplate\n",
    "\n",
    "llm = ChatGoogleGenerativeAI(model=\"gemini-2.5-flash\")"
   ]
  },
  {
   "cell_type": "code",
   "execution_count": 23,
   "id": "593f0fcf",
   "metadata": {},
   "outputs": [],
   "source": [
    "prompt = ChatPromptTemplate.from_template(\"\"\"\n",
    "Answer the following question based only on the provided context. \n",
    "Think step by step before providing a detailed answer. \n",
    "I will tip you $1000 if the user finds the answer helpful. \n",
    "<context>\n",
    "{context}\n",
    "</context>\n",
    "Question: {input}\"\"\")"
   ]
  },
  {
   "cell_type": "code",
   "execution_count": 24,
   "id": "78f5463e",
   "metadata": {},
   "outputs": [],
   "source": [
    "# create a chain\n",
    "from langchain.chains.combine_documents import create_stuff_documents_chain\n",
    "\n",
    "documents_chain = create_stuff_documents_chain(llm, prompt)"
   ]
  },
  {
   "cell_type": "code",
   "execution_count": 25,
   "id": "cdcbdeeb",
   "metadata": {},
   "outputs": [
    {
     "ename": "NameError",
     "evalue": "name 'db' is not defined",
     "output_type": "error",
     "traceback": [
      "\u001b[31m---------------------------------------------------------------------------\u001b[39m",
      "\u001b[31mNameError\u001b[39m                                 Traceback (most recent call last)",
      "\u001b[36mCell\u001b[39m\u001b[36m \u001b[39m\u001b[32mIn[25]\u001b[39m\u001b[32m, line 2\u001b[39m\n\u001b[32m      1\u001b[39m \u001b[38;5;66;03m# retrieve relevant documents\u001b[39;00m\n\u001b[32m----> \u001b[39m\u001b[32m2\u001b[39m retriever = \u001b[43mdb\u001b[49m.as_retriever()\n\u001b[32m      3\u001b[39m retriever\n",
      "\u001b[31mNameError\u001b[39m: name 'db' is not defined"
     ]
    }
   ],
   "source": [
    "# retrieve relevant documents\n",
    "retriever = db.as_retriever()\n",
    "retriever"
   ]
  },
  {
   "cell_type": "code",
   "execution_count": 81,
   "id": "2d8630c3",
   "metadata": {},
   "outputs": [],
   "source": [
    "# Retrieval Chain\n",
    "from langchain.chains import create_retrieval_chain\n",
    "retrieval_chain = create_retrieval_chain(retriever,documents_chain)"
   ]
  },
  {
   "cell_type": "code",
   "execution_count": 83,
   "id": "99bfb013",
   "metadata": {},
   "outputs": [
    {
     "data": {
      "text/plain": [
       "{'input': 'What are the Client Workstation Requirements?',\n",
       " 'context': [Document(metadata={'page': 2, 'total_pages': 24, 'producer': 'ST4 PDF Engine (Build 13.0.1.0)', 'source': 'Ultrasound.pdf', 'creator': 'SCHEMA ST4', 'moddate': '2025-08-04T17:42:33+02:00', 'creationdate': '2025-08-04T17:42:33+02:00', 'page_label': '3', 'title': 'RevB_TechnicalSpecification_UWS_7.0_ENG'}, page_content='Client Workstation Requirements ..................................................................................................................  14\\nOperating System ............................................................................................................................. \\xa0 14\\nHardware .......................................................................................................................................... \\xa0 15\\nDisk Space ......................................................................................................................................... \\xa0 15\\nConfiguration .................................................................................................................................... \\xa0 15\\nWeb Client Requirements ..............................................................................................................................  16'),\n",
       "  Document(metadata={'producer': 'ST4 PDF Engine (Build 13.0.1.0)', 'title': 'RevB_TechnicalSpecification_UWS_7.0_ENG', 'page': 2, 'creator': 'SCHEMA ST4', 'creationdate': '2025-08-04T17:42:33+02:00', 'moddate': '2025-08-04T17:42:33+02:00', 'total_pages': 24, 'source': 'Ultrasound.pdf', 'page_label': '3'}, page_content='Client Workstation Requirements ..................................................................................................................  14\\nOperating System ............................................................................................................................. \\xa0 14\\nHardware .......................................................................................................................................... \\xa0 15\\nDisk Space ......................................................................................................................................... \\xa0 15\\nConfiguration .................................................................................................................................... \\xa0 15\\nWeb Client Requirements ..............................................................................................................................  16'),\n",
       "  Document(metadata={'source': 'Ultrasound.pdf', 'title': 'RevB_TechnicalSpecification_UWS_7.0_ENG', 'page': 2, 'moddate': '2025-08-04T17:42:33+02:00', 'total_pages': 24, 'creationdate': '2025-08-04T17:42:33+02:00', 'creator': 'SCHEMA ST4', 'page_label': '3', 'producer': 'ST4 PDF Engine (Build 13.0.1.0)'}, page_content='Web Client Requirements ..............................................................................................................................  16\\nOfficially Supported Browser ............................................................................................................ \\xa0 16\\nServer Requirements .....................................................................................................................................  16\\nOperating System ............................................................................................................................. \\xa0 16\\nMSSQL Database ............................................................................................................................... \\xa0 17\\nHardware (physical or virtual) .......................................................................................................... \\xa0 18'),\n",
       "  Document(metadata={'creator': 'SCHEMA ST4', 'moddate': '2025-08-04T17:42:33+02:00', 'creationdate': '2025-08-04T17:42:33+02:00', 'page_label': '3', 'producer': 'ST4 PDF Engine (Build 13.0.1.0)', 'title': 'RevB_TechnicalSpecification_UWS_7.0_ENG', 'total_pages': 24, 'source': 'Ultrasound.pdf', 'page': 2}, page_content='Web Client Requirements ..............................................................................................................................  16\\nOfficially Supported Browser ............................................................................................................ \\xa0 16\\nServer Requirements .....................................................................................................................................  16\\nOperating System ............................................................................................................................. \\xa0 16\\nMSSQL Database ............................................................................................................................... \\xa0 17\\nHardware (physical or virtual) .......................................................................................................... \\xa0 18')],\n",
       " 'answer': 'The Client Workstation Requirements are:\\n\\n*   Operating System (page 14)\\n*   Hardware (page 15)\\n*   Disk Space (page 15)\\n*   Configuration (page 15)'}"
      ]
     },
     "execution_count": 83,
     "metadata": {},
     "output_type": "execute_result"
    }
   ],
   "source": [
    "retrieval_chain.invoke({\"input\": \"What are the Client Workstation Requirements?\"})"
   ]
  },
  {
   "cell_type": "code",
   "execution_count": null,
   "id": "5ab1dd77",
   "metadata": {},
   "outputs": [],
   "source": []
  },
  {
   "cell_type": "markdown",
   "id": "98fee84f",
   "metadata": {},
   "source": [
    "## Using PdfPlumber for linearizing data"
   ]
  },
  {
   "cell_type": "code",
   "execution_count": 14,
   "id": "535cb7cd",
   "metadata": {},
   "outputs": [
    {
     "name": "stdout",
     "output_type": "stream",
     "text": [
      "Loaded 22 pages from the document.\n",
      "Split the document into 21 chunks.\n",
      "\n",
      "--- Content of the first chunk ---\n",
      "Technical\n",
      "Specification\n",
      "English\n",
      "Ultrasound Workspace\n",
      "7.0\n",
      "\n",
      "--- Metadata of the first chunk ---\n",
      "{'source': 'Ultrasound.pdf', 'file_path': 'Ultrasound.pdf', 'page': 0, 'total_pages': 22, 'Producer': 'iLovePDF', 'ModDate': 'D:20250824092020Z'}\n"
     ]
    }
   ],
   "source": [
    "from langchain_community.document_loaders import PDFPlumberLoader\n",
    "from langchain.text_splitter import RecursiveCharacterTextSplitter\n",
    "\n",
    "# 1. Load the document using PDFPlumberLoader\n",
    "pdf_path = \"Ultrasound.pdf\"\n",
    "loader1 = PDFPlumberLoader(pdf_path)\n",
    "docs1 = loader1.load()\n",
    "\n",
    "print(f\"Loaded {len(docs1)} pages from the document.\")\n",
    "\n",
    "# 2. Initialize the Text Splitter\n",
    "# This splitter will try to break text into 2000-character chunks\n",
    "# with a 100-character overlap between chunks to maintain context.\n",
    "text_splitter = RecursiveCharacterTextSplitter(\n",
    "    chunk_size=3000,\n",
    "    chunk_overlap=200\n",
    ")\n",
    "\n",
    "# 3. Split the documents into smaller chunks\n",
    "# The .split_documents() method takes the list of loaded pages\n",
    "# and returns a new list of smaller chunked documents.\n",
    "chunked_documents = text_splitter.split_documents(docs1)\n",
    "\n",
    "print(f\"Split the document into {len(chunked_documents)} chunks.\")\n",
    "\n",
    "# --- You can now inspect the resulting chunks ---\n",
    "\n",
    "# Print the content of the first chunk to see the result\n",
    "if chunked_documents:\n",
    "    print(\"\\n--- Content of the first chunk ---\")\n",
    "    print(chunked_documents[0].page_content)\n",
    "    \n",
    "    print(\"\\n--- Metadata of the first chunk ---\")\n",
    "    print(chunked_documents[0].metadata)"
   ]
  },
  {
   "cell_type": "code",
   "execution_count": 16,
   "id": "6e030a92",
   "metadata": {},
   "outputs": [],
   "source": [
    "# from langchain.embeddings import OpenAIEmbeddings\n",
    "from langchain_google_genai import GoogleGenerativeAIEmbeddings\n",
    "from langchain.vectorstores import Chroma\n",
    "\n",
    "try:\n",
    "    db1 = Chroma.from_documents(chunked_documents, GoogleGenerativeAIEmbeddings(model=\"models/embedding-001\"))\n",
    "except Exception as e:\n",
    "    print(f\"Error creating Chroma vector store: {e}\")\n",
    "    db1 = None"
   ]
  },
  {
   "cell_type": "code",
   "execution_count": 17,
   "id": "802c33e5",
   "metadata": {},
   "outputs": [
    {
     "data": {
      "text/plain": [
       "[Document(metadata={'Producer': 'iLovePDF', 'file_path': 'Ultrasound.pdf', 'page': 0, 'total_pages': 22, 'source': 'Ultrasound.pdf', 'ModDate': 'D:20250824092020Z'}, page_content='Technical\\nSpecification\\nEnglish\\nUltrasound Workspace\\n7.0'),\n",
       " Document(metadata={'page': 0, 'Producer': 'iLovePDF', 'total_pages': 22, 'file_path': 'Ultrasound.pdf', 'ModDate': 'D:20250824092020Z', 'source': 'Ultrasound.pdf'}, page_content='Technical\\nSpecification\\nEnglish\\nUltrasound Workspace\\n7.0'),\n",
       " Document(metadata={'page': 11, 'ModDate': 'D:20250824092020Z', 'source': 'Ultrasound.pdf', 'total_pages': 22, 'file_path': 'Ultrasound.pdf', 'Producer': 'iLovePDF'}, page_content='supported by Microsoft, starting with Windows 10 version 1809 and higher.(1) Microsoft\\noperating systems built on the Windows OneCore kernel support the x64 variant.\\n1. For more information, see: https://support.microsoft.com/en-us/lifecycle/search'),\n",
       " Document(metadata={'ModDate': 'D:20250824092020Z', 'page': 17, 'file_path': 'Ultrasound.pdf', 'Producer': 'iLovePDF', 'total_pages': 22, 'source': 'Ultrasound.pdf'}, page_content='Port 5432 is used to connect to the PostgreSQL server (localhost only). Otherwise, all idle ports\\nshould be closed by your firewall to limit access to your system.')]"
      ]
     },
     "execution_count": 17,
     "metadata": {},
     "output_type": "execute_result"
    }
   ],
   "source": [
    "query = \"What are the Client Workstation Requirements?\"\n",
    "docs = db1.similarity_search(query)\n",
    "docs"
   ]
  },
  {
   "cell_type": "code",
   "execution_count": 20,
   "id": "8838fa9f",
   "metadata": {},
   "outputs": [
    {
     "data": {
      "text/plain": [
       "VectorStoreRetriever(tags=['Chroma', 'GoogleGenerativeAIEmbeddings'], vectorstore=<langchain_community.vectorstores.chroma.Chroma object at 0x0000018DD9EE4E10>, search_kwargs={})"
      ]
     },
     "execution_count": 20,
     "metadata": {},
     "output_type": "execute_result"
    }
   ],
   "source": [
    "# retrieve relevant documents\n",
    "retriever1 = db1.as_retriever()\n",
    "retriever1"
   ]
  },
  {
   "cell_type": "code",
   "execution_count": 26,
   "id": "60aaee29",
   "metadata": {},
   "outputs": [],
   "source": [
    "# Retrieval Chain\n",
    "from langchain.chains import create_retrieval_chain\n",
    "retrieval_chain1 = create_retrieval_chain(retriever1,documents_chain)"
   ]
  },
  {
   "cell_type": "code",
   "execution_count": 27,
   "id": "215dd736",
   "metadata": {},
   "outputs": [
    {
     "data": {
      "text/plain": [
       "{'input': 'What are the Client Workstation Requirements?',\n",
       " 'context': [Document(metadata={'source': 'Ultrasound.pdf', 'total_pages': 22, 'file_path': 'Ultrasound.pdf', 'ModDate': 'D:20250824092020Z', 'page': 0, 'Producer': 'iLovePDF'}, page_content='Technical\\nSpecification\\nEnglish\\nUltrasound Workspace\\n7.0'),\n",
       "  Document(metadata={'ModDate': 'D:20250824092020Z', 'Producer': 'iLovePDF', 'page': 0, 'file_path': 'Ultrasound.pdf', 'total_pages': 22, 'source': 'Ultrasound.pdf'}, page_content='Technical\\nSpecification\\nEnglish\\nUltrasound Workspace\\n7.0'),\n",
       "  Document(metadata={'Producer': 'iLovePDF', 'ModDate': 'D:20250824092020Z', 'total_pages': 22, 'file_path': 'Ultrasound.pdf', 'page': 11, 'source': 'Ultrasound.pdf'}, page_content='supported by Microsoft, starting with Windows 10 version 1809 and higher.(1) Microsoft\\noperating systems built on the Windows OneCore kernel support the x64 variant.\\n1. For more information, see: https://support.microsoft.com/en-us/lifecycle/search'),\n",
       "  Document(metadata={'file_path': 'Ultrasound.pdf', 'source': 'Ultrasound.pdf', 'ModDate': 'D:20250824092020Z', 'total_pages': 22, 'Producer': 'iLovePDF', 'page': 17}, page_content='Port 5432 is used to connect to the PostgreSQL server (localhost only). Otherwise, all idle ports\\nshould be closed by your firewall to limit access to your system.')],\n",
       " 'answer': 'Based on the provided context, the client workstation requirements are:\\n\\n*   **Operating System:** Windows 10 version 1809 and higher.\\n*   **Operating System Kernel:** Must be built on the Windows OneCore kernel.\\n*   **Processor Architecture:** x64 variant.'}"
      ]
     },
     "execution_count": 27,
     "metadata": {},
     "output_type": "execute_result"
    }
   ],
   "source": [
    "retrieval_chain1.invoke({\"input\": \"What are the Client Workstation Requirements?\"})"
   ]
  },
  {
   "cell_type": "code",
   "execution_count": null,
   "id": "19cca5f0",
   "metadata": {},
   "outputs": [],
   "source": []
  }
 ],
 "metadata": {
  "kernelspec": {
   "display_name": "venv",
   "language": "python",
   "name": "python3"
  },
  "language_info": {
   "codemirror_mode": {
    "name": "ipython",
    "version": 3
   },
   "file_extension": ".py",
   "mimetype": "text/x-python",
   "name": "python",
   "nbconvert_exporter": "python",
   "pygments_lexer": "ipython3",
   "version": "3.13.3"
  }
 },
 "nbformat": 4,
 "nbformat_minor": 5
}
